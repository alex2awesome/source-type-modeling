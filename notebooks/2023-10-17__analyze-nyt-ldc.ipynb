{
 "cells": [
  {
   "cell_type": "code",
   "execution_count": 1,
   "id": "a933b9be-7f5a-4525-9af2-49d8fc4ee2a4",
   "metadata": {},
   "outputs": [],
   "source": [
    "import pandas as pd \n",
    "import glob\n",
    "import jsonlines\n",
    "from tqdm.auto import tqdm\n",
    "\n",
    "attribution_files = glob.glob('../data/nyt-ldc/nyt-ldc-attribution*')\n",
    "detection_files  = glob.glob('../data/nyt-ldc/nyt-ldc-data-with-detectio*')\n",
    "source_type_files = glob.glob('../data/nyt-ldc/nyt-ldc-full-attribution-*')"
   ]
  },
  {
   "cell_type": "code",
   "execution_count": 2,
   "id": "a249547a-bde8-49a5-9132-e46f97cacc92",
   "metadata": {},
   "outputs": [
    {
     "data": {
      "application/vnd.jupyter.widget-view+json": {
       "model_id": "4dc2f39e40524d8f88e44065ecc00b5a",
       "version_major": 2,
       "version_minor": 0
      },
      "text/plain": [
       "  0%|          | 0/4 [00:00<?, ?it/s]"
      ]
     },
     "metadata": {},
     "output_type": "display_data"
    }
   ],
   "source": [
    "attribution_lines, detection_lines, source_lines = [], [], []\n",
    "# for f in tqdm(attribution_files):\n",
    "#     attribution_lines += list(jsonlines.open(f))\n",
    "\n",
    "# for f in tqdm(detection_files):\n",
    "#     detection_lines += list(jsonlines.open(f))\n",
    "\n",
    "for f in tqdm(source_type_files):\n",
    "    source_lines += list(jsonlines.open(f))"
   ]
  },
  {
   "cell_type": "code",
   "execution_count": 3,
   "id": "027d8e7f-479c-4bbd-9c89-513502cb8d84",
   "metadata": {
    "scrolled": true
   },
   "outputs": [
    {
     "data": {
      "text/plain": [
       "716113"
      ]
     },
     "execution_count": 3,
     "metadata": {},
     "output_type": "execute_result"
    }
   ],
   "source": [
    "len(source_lines)"
   ]
  },
  {
   "cell_type": "code",
   "execution_count": 4,
   "id": "0014f4dd-9606-4bc4-8aff-4aad0a1e3100",
   "metadata": {},
   "outputs": [
    {
     "data": {
      "application/vnd.jupyter.widget-view+json": {
       "model_id": "f8daa126f6ed463c9ddc67bff4a17331",
       "version_major": 2,
       "version_minor": 0
      },
      "text/plain": [
       "  0%|          | 0/716113 [00:00<?, ?it/s]"
      ]
     },
     "metadata": {},
     "output_type": "display_data"
    }
   ],
   "source": [
    "source_lines_df = list(map(pd.DataFrame, tqdm(source_lines)))"
   ]
  },
  {
   "cell_type": "code",
   "execution_count": 6,
   "id": "fb5b5077-732a-402e-8dbe-d790e1981f2d",
   "metadata": {},
   "outputs": [],
   "source": [
    "def format_id(doc_id):\n",
    "    doc_id_parts = doc_id.split('/')\n",
    "    doc_id_parts = doc_id_parts[:4]\n",
    "    return '/'.join(doc_id_parts)"
   ]
  },
  {
   "cell_type": "code",
   "execution_count": 77,
   "id": "0c29bbee-c458-42db-a576-182e9a330704",
   "metadata": {
    "scrolled": true
   },
   "outputs": [
    {
     "data": {
      "application/vnd.jupyter.widget-view+json": {
       "model_id": "8471f1895540418082da86ead0fee88f",
       "version_major": 2,
       "version_minor": 0
      },
      "text/plain": [
       "  0%|          | 0/716113 [00:00<?, ?it/s]"
      ]
     },
     "metadata": {},
     "output_type": "display_data"
    }
   ],
   "source": [
    "all_source_type_counts = []\n",
    "\n",
    "for df in tqdm(source_lines_df):\n",
    "    doc_id = df['doc_id'].iloc[0]\n",
    "    counts = df.pipe(lambda df: \n",
    "               df[['affiliation', 'role']]\n",
    "                   .value_counts()\n",
    "    )\n",
    "    counts['doc_id'] = doc_id\n",
    "    all_source_type_counts.append(counts.to_dict())"
   ]
  },
  {
   "cell_type": "code",
   "execution_count": 82,
   "id": "0d34f9b9-2651-4cb7-ba61-2b07b6d1288f",
   "metadata": {},
   "outputs": [
    {
     "data": {
      "application/vnd.jupyter.widget-view+json": {
       "model_id": "c22e549513674c6ab93498828f4d7b77",
       "version_major": 2,
       "version_minor": 0
      },
      "text/plain": [
       "  0%|          | 0/716113 [00:00<?, ?it/s]"
      ]
     },
     "metadata": {},
     "output_type": "display_data"
    }
   ],
   "source": [
    "def process_key(k):\n",
    "    if k[0] != 'doc_id':\n",
    "        return f'{k[0]}----{k[1]}'\n",
    "    else:\n",
    "        return k[0]\n",
    "\n",
    "with jsonlines.open('../data/nyt-ldc/source-type-counts.jsonl', 'w') as f:\n",
    "    for line in tqdm(all_source_type_counts):\n",
    "        line = {process_key(k): v for k, v in line.items()}\n",
    "        f.write(line)"
   ]
  },
  {
   "cell_type": "code",
   "execution_count": 92,
   "id": "6bf8f108-32ac-4864-8e2b-2b41494ab05c",
   "metadata": {},
   "outputs": [],
   "source": [
    "all_counts_df = pd.read_json('../data/nyt-ldc/source-type-counts.jsonl', lines=True)\n",
    "all_counts_df= all_counts_df.fillna(0)\n",
    "all_counts_df= all_counts_df.loc[lambda df: df['oom error----oom error'] == 0]\n",
    "all_counts_df= all_counts_df.set_index('doc_id')"
   ]
  },
  {
   "cell_type": "code",
   "execution_count": null,
   "id": "f109873c-e519-4ba5-9811-4f5aa44d0901",
   "metadata": {},
   "outputs": [],
   "source": [
    "metadata_df = pd.read_csv('../data/nyt-ldc/nyt-ldc-docs-to-score.csv.gz', index_col=0)\n",
    "metadata_cols = metadata_df.columns\n",
    "all_source_cols = all_counts_df.columns"
   ]
  },
  {
   "cell_type": "code",
   "execution_count": 142,
   "id": "3e707e7b-7403-4e35-a198-cd451f77a357",
   "metadata": {},
   "outputs": [],
   "source": [
    "# all_counts_df.columns = pd.MultiIndex.from_tuples( list(map(lambda x: x.split('----'), all_counts_df.columns)))"
   ]
  },
  {
   "cell_type": "code",
   "execution_count": 143,
   "id": "c5cfa634-a356-4393-b01a-3e641fc2a0af",
   "metadata": {},
   "outputs": [],
   "source": [
    "all_counts_with_metadata = (\n",
    "    all_counts_df\n",
    "        .assign(all_source_count = lambda df: df.sum(axis=1))\n",
    "        .merge(metadata_df, left_index=True, right_on='id')\n",
    ")"
   ]
  },
  {
   "cell_type": "code",
   "execution_count": 154,
   "id": "2300f4b4-b0a4-450d-8949-2705325f66ee",
   "metadata": {
    "scrolled": true
   },
   "outputs": [],
   "source": [
    "sources_per_section = (\n",
    "    all_counts_with_metadata\n",
    "         .assign(online_cols_split=lambda df: df['online_sections'].str.split('; '))\n",
    "         .explode('online_cols_split')\n",
    ")\n",
    "\n",
    "num_sources_per_section = (\n",
    "    sources_per_section\n",
    "        .groupby('online_cols_split')\n",
    "        ['all_source_count'].mean()\n",
    "        .sort_values()\n",
    ")"
   ]
  },
  {
   "cell_type": "code",
   "execution_count": 155,
   "id": "bb23a4a0-516f-42a2-ab13-6d3af2308c31",
   "metadata": {},
   "outputs": [
    {
     "data": {
      "text/plain": [
       "online_cols_split\n",
       "Obituaries              5.417801\n",
       "Dining and Wine         6.643762\n",
       "Arts                    7.289793\n",
       "Theater                 7.647337\n",
       "Movies                  7.691358\n",
       "Opinion                 7.930093\n",
       "Automobiles             8.087426\n",
       "Travel                  8.148273\n",
       "Style                   8.178161\n",
       "Home and Garden         8.334816\n",
       "Books                   8.361420\n",
       "Science                 8.844915\n",
       "Technology              9.526323\n",
       "New York and Region     9.539377\n",
       "Magazine                9.865810\n",
       "Sports                  9.972617\n",
       "Job Market             10.355045\n",
       "World                  10.426499\n",
       "Real Estate            10.515976\n",
       "Health                 10.564926\n",
       "Business               10.805036\n",
       "Washington             11.018568\n",
       "Education              11.124660\n",
       "Week in Review         11.316179\n",
       "U.S.                   11.377240\n",
       "The Public Editor      13.000000\n",
       "Front Page             14.046002\n",
       "Name: all_source_count, dtype: float64"
      ]
     },
     "execution_count": 155,
     "metadata": {},
     "output_type": "execute_result"
    }
   ],
   "source": [
    "num_sources_per_section"
   ]
  },
  {
   "cell_type": "code",
   "execution_count": 170,
   "id": "cd414cc5-a9d5-4b77-87d6-0ca280a81e4b",
   "metadata": {},
   "outputs": [],
   "source": [
    "source_cols_filt = list(filter(lambda x: ('Cannot Determine' not in x) and ('oom' not in x), all_source_cols))"
   ]
  },
  {
   "cell_type": "code",
   "execution_count": 192,
   "id": "95789b96-3e50-4c16-bcd4-0857ac645a70",
   "metadata": {},
   "outputs": [
    {
     "data": {
      "text/html": [
       "<div>\n",
       "<style scoped>\n",
       "    .dataframe tbody tr th:only-of-type {\n",
       "        vertical-align: middle;\n",
       "    }\n",
       "\n",
       "    .dataframe tbody tr th {\n",
       "        vertical-align: top;\n",
       "    }\n",
       "\n",
       "    .dataframe thead th {\n",
       "        text-align: right;\n",
       "    }\n",
       "</style>\n",
       "<table border=\"1\" class=\"dataframe\">\n",
       "  <thead>\n",
       "    <tr style=\"text-align: right;\">\n",
       "      <th></th>\n",
       "      <th>0</th>\n",
       "      <th>1</th>\n",
       "      <th>2</th>\n",
       "      <th>3</th>\n",
       "      <th>4</th>\n",
       "    </tr>\n",
       "    <tr>\n",
       "      <th>online_cols_split</th>\n",
       "      <th></th>\n",
       "      <th></th>\n",
       "      <th></th>\n",
       "      <th></th>\n",
       "      <th></th>\n",
       "    </tr>\n",
       "  </thead>\n",
       "  <tbody>\n",
       "    <tr>\n",
       "      <th>Arts</th>\n",
       "      <td>Actor, Participant: 0.25</td>\n",
       "      <td>Witness, Participant: 0.13</td>\n",
       "      <td>Media, Participant: 0.11</td>\n",
       "      <td>Media, Informational: 0.08</td>\n",
       "      <td>Government, Participant: 0.07</td>\n",
       "    </tr>\n",
       "    <tr>\n",
       "      <th>Automobiles</th>\n",
       "      <td>Corporate, Participant: 0.25</td>\n",
       "      <td>Witness, Participant: 0.13</td>\n",
       "      <td>Corporate, Informational: 0.12</td>\n",
       "      <td>Actor, Participant: 0.09</td>\n",
       "      <td>Media, Informational: 0.06</td>\n",
       "    </tr>\n",
       "    <tr>\n",
       "      <th>Books</th>\n",
       "      <td>Actor, Participant: 0.22</td>\n",
       "      <td>Witness, Participant: 0.13</td>\n",
       "      <td>Media, Participant: 0.1</td>\n",
       "      <td>Media, Informational: 0.09</td>\n",
       "      <td>Government, Participant: 0.06</td>\n",
       "    </tr>\n",
       "    <tr>\n",
       "      <th>Business</th>\n",
       "      <td>Corporate, Informational: 0.22</td>\n",
       "      <td>Corporate, Participant: 0.21</td>\n",
       "      <td>Government, Participant: 0.11</td>\n",
       "      <td>Government, Informational: 0.06</td>\n",
       "      <td>Industry Group, Informational: 0.05</td>\n",
       "    </tr>\n",
       "    <tr>\n",
       "      <th>Dining and Wine</th>\n",
       "      <td>Witness, Participant: 0.19</td>\n",
       "      <td>Actor, Participant: 0.14</td>\n",
       "      <td>Corporate, Participant: 0.12</td>\n",
       "      <td>Media, Informational: 0.08</td>\n",
       "      <td>Witness, Informational: 0.08</td>\n",
       "    </tr>\n",
       "    <tr>\n",
       "      <th>Education</th>\n",
       "      <td>Government, Participant: 0.25</td>\n",
       "      <td>Academic, Participant: 0.11</td>\n",
       "      <td>Witness, Participant: 0.08</td>\n",
       "      <td>Academic, Informational: 0.07</td>\n",
       "      <td>Actor, Participant: 0.07</td>\n",
       "    </tr>\n",
       "    <tr>\n",
       "      <th>Front Page</th>\n",
       "      <td>Government, Participant: 0.31</td>\n",
       "      <td>Government, Informational: 0.12</td>\n",
       "      <td>Political Group, Participant: 0.07</td>\n",
       "      <td>Witness, Participant: 0.05</td>\n",
       "      <td>Corporate, Participant: 0.04</td>\n",
       "    </tr>\n",
       "    <tr>\n",
       "      <th>Health</th>\n",
       "      <td>Government, Participant: 0.19</td>\n",
       "      <td>Academic, Informational: 0.16</td>\n",
       "      <td>Government, Informational: 0.08</td>\n",
       "      <td>Corporate, Participant: 0.06</td>\n",
       "      <td>Actor, Participant: 0.06</td>\n",
       "    </tr>\n",
       "    <tr>\n",
       "      <th>Home and Garden</th>\n",
       "      <td>Actor, Participant: 0.17</td>\n",
       "      <td>Witness, Participant: 0.15</td>\n",
       "      <td>Corporate, Participant: 0.12</td>\n",
       "      <td>Media, Informational: 0.07</td>\n",
       "      <td>Academic, Informational: 0.06</td>\n",
       "    </tr>\n",
       "    <tr>\n",
       "      <th>Job Market</th>\n",
       "      <td>Corporate, Participant: 0.17</td>\n",
       "      <td>Actor, Participant: 0.13</td>\n",
       "      <td>Witness, Participant: 0.12</td>\n",
       "      <td>Corporate, Informational: 0.07</td>\n",
       "      <td>Academic, Informational: 0.06</td>\n",
       "    </tr>\n",
       "    <tr>\n",
       "      <th>Magazine</th>\n",
       "      <td>Witness, Participant: 0.19</td>\n",
       "      <td>Actor, Participant: 0.16</td>\n",
       "      <td>Media, Participant: 0.1</td>\n",
       "      <td>Media, Informational: 0.09</td>\n",
       "      <td>Government, Participant: 0.09</td>\n",
       "    </tr>\n",
       "    <tr>\n",
       "      <th>Movies</th>\n",
       "      <td>Actor, Participant: 0.24</td>\n",
       "      <td>Witness, Participant: 0.15</td>\n",
       "      <td>Media, Participant: 0.11</td>\n",
       "      <td>Corporate, Participant: 0.08</td>\n",
       "      <td>Media, Informational: 0.07</td>\n",
       "    </tr>\n",
       "    <tr>\n",
       "      <th>New York and Region</th>\n",
       "      <td>Government, Participant: 0.23</td>\n",
       "      <td>Witness, Participant: 0.1</td>\n",
       "      <td>Actor, Participant: 0.1</td>\n",
       "      <td>Government, Informational: 0.06</td>\n",
       "      <td>Corporate, Participant: 0.05</td>\n",
       "    </tr>\n",
       "    <tr>\n",
       "      <th>Obituaries</th>\n",
       "      <td>Actor, Participant: 0.14</td>\n",
       "      <td>Government, Participant: 0.12</td>\n",
       "      <td>Media, Informational: 0.11</td>\n",
       "      <td>Academic, Informational: 0.06</td>\n",
       "      <td>Academic, Participant: 0.06</td>\n",
       "    </tr>\n",
       "    <tr>\n",
       "      <th>Opinion</th>\n",
       "      <td>Government, Participant: 0.33</td>\n",
       "      <td>Witness, Participant: 0.09</td>\n",
       "      <td>Political Group, Participant: 0.08</td>\n",
       "      <td>Media, Participant: 0.08</td>\n",
       "      <td>Actor, Participant: 0.06</td>\n",
       "    </tr>\n",
       "    <tr>\n",
       "      <th>Real Estate</th>\n",
       "      <td>Corporate, Participant: 0.22</td>\n",
       "      <td>Government, Participant: 0.13</td>\n",
       "      <td>Actor, Participant: 0.1</td>\n",
       "      <td>Witness, Participant: 0.08</td>\n",
       "      <td>Corporate, Informational: 0.07</td>\n",
       "    </tr>\n",
       "    <tr>\n",
       "      <th>Science</th>\n",
       "      <td>Academic, Informational: 0.34</td>\n",
       "      <td>Government, Participant: 0.09</td>\n",
       "      <td>Government, Informational: 0.08</td>\n",
       "      <td>Witness, Participant: 0.06</td>\n",
       "      <td>Academic, Participant: 0.06</td>\n",
       "    </tr>\n",
       "    <tr>\n",
       "      <th>Sports</th>\n",
       "      <td>Other Group, Participant: 0.34</td>\n",
       "      <td>Actor, Participant: 0.14</td>\n",
       "      <td>Witness, Participant: 0.12</td>\n",
       "      <td>Government, Participant: 0.08</td>\n",
       "      <td>Media, Participant: 0.08</td>\n",
       "    </tr>\n",
       "    <tr>\n",
       "      <th>Style</th>\n",
       "      <td>Actor, Participant: 0.19</td>\n",
       "      <td>Witness, Participant: 0.16</td>\n",
       "      <td>Corporate, Participant: 0.12</td>\n",
       "      <td>Media, Participant: 0.07</td>\n",
       "      <td>Media, Informational: 0.07</td>\n",
       "    </tr>\n",
       "    <tr>\n",
       "      <th>Technology</th>\n",
       "      <td>Corporate, Participant: 0.18</td>\n",
       "      <td>Corporate, Informational: 0.15</td>\n",
       "      <td>Government, Participant: 0.1</td>\n",
       "      <td>Academic, Informational: 0.06</td>\n",
       "      <td>Witness, Participant: 0.06</td>\n",
       "    </tr>\n",
       "    <tr>\n",
       "      <th>The Public Editor</th>\n",
       "      <td>Media, Participant: 0.28</td>\n",
       "      <td>Media, Informational: 0.16</td>\n",
       "      <td>Actor, Participant: 0.16</td>\n",
       "      <td>Witness, Participant: 0.08</td>\n",
       "      <td>Government, Informational: 0.08</td>\n",
       "    </tr>\n",
       "    <tr>\n",
       "      <th>Theater</th>\n",
       "      <td>Actor, Participant: 0.31</td>\n",
       "      <td>Witness, Participant: 0.14</td>\n",
       "      <td>Media, Participant: 0.09</td>\n",
       "      <td>Corporate, Participant: 0.07</td>\n",
       "      <td>Government, Participant: 0.06</td>\n",
       "    </tr>\n",
       "    <tr>\n",
       "      <th>Travel</th>\n",
       "      <td>Witness, Participant: 0.2</td>\n",
       "      <td>Corporate, Participant: 0.13</td>\n",
       "      <td>Actor, Participant: 0.1</td>\n",
       "      <td>Government, Participant: 0.09</td>\n",
       "      <td>Media, Participant: 0.06</td>\n",
       "    </tr>\n",
       "    <tr>\n",
       "      <th>U.S.</th>\n",
       "      <td>Government, Participant: 0.29</td>\n",
       "      <td>Political Group, Participant: 0.09</td>\n",
       "      <td>Government, Informational: 0.08</td>\n",
       "      <td>Academic, Informational: 0.06</td>\n",
       "      <td>Actor, Participant: 0.05</td>\n",
       "    </tr>\n",
       "    <tr>\n",
       "      <th>Washington</th>\n",
       "      <td>Government, Participant: 0.37</td>\n",
       "      <td>Government, Informational: 0.15</td>\n",
       "      <td>Political Group, Participant: 0.07</td>\n",
       "      <td>Media, Informational: 0.05</td>\n",
       "      <td>Government, Representative: 0.04</td>\n",
       "    </tr>\n",
       "    <tr>\n",
       "      <th>Week in Review</th>\n",
       "      <td>Government, Participant: 0.24</td>\n",
       "      <td>Academic, Informational: 0.1</td>\n",
       "      <td>Government, Informational: 0.08</td>\n",
       "      <td>Political Group, Participant: 0.07</td>\n",
       "      <td>Witness, Participant: 0.07</td>\n",
       "    </tr>\n",
       "    <tr>\n",
       "      <th>World</th>\n",
       "      <td>Government, Participant: 0.33</td>\n",
       "      <td>Government, Informational: 0.15</td>\n",
       "      <td>Media, Informational: 0.06</td>\n",
       "      <td>Political Group, Participant: 0.06</td>\n",
       "      <td>Witness, Participant: 0.06</td>\n",
       "    </tr>\n",
       "  </tbody>\n",
       "</table>\n",
       "</div>"
      ],
      "text/plain": [
       "                                                  0  \\\n",
       "online_cols_split                                     \n",
       "Arts                       Actor, Participant: 0.25   \n",
       "Automobiles            Corporate, Participant: 0.25   \n",
       "Books                      Actor, Participant: 0.22   \n",
       "Business             Corporate, Informational: 0.22   \n",
       "Dining and Wine          Witness, Participant: 0.19   \n",
       "Education             Government, Participant: 0.25   \n",
       "Front Page            Government, Participant: 0.31   \n",
       "Health                Government, Participant: 0.19   \n",
       "Home and Garden            Actor, Participant: 0.17   \n",
       "Job Market             Corporate, Participant: 0.17   \n",
       "Magazine                 Witness, Participant: 0.19   \n",
       "Movies                     Actor, Participant: 0.24   \n",
       "New York and Region   Government, Participant: 0.23   \n",
       "Obituaries                 Actor, Participant: 0.14   \n",
       "Opinion               Government, Participant: 0.33   \n",
       "Real Estate            Corporate, Participant: 0.22   \n",
       "Science               Academic, Informational: 0.34   \n",
       "Sports               Other Group, Participant: 0.34   \n",
       "Style                      Actor, Participant: 0.19   \n",
       "Technology             Corporate, Participant: 0.18   \n",
       "The Public Editor          Media, Participant: 0.28   \n",
       "Theater                    Actor, Participant: 0.31   \n",
       "Travel                    Witness, Participant: 0.2   \n",
       "U.S.                  Government, Participant: 0.29   \n",
       "Washington            Government, Participant: 0.37   \n",
       "Week in Review        Government, Participant: 0.24   \n",
       "World                 Government, Participant: 0.33   \n",
       "\n",
       "                                                      1  \\\n",
       "online_cols_split                                         \n",
       "Arts                         Witness, Participant: 0.13   \n",
       "Automobiles                  Witness, Participant: 0.13   \n",
       "Books                        Witness, Participant: 0.13   \n",
       "Business                   Corporate, Participant: 0.21   \n",
       "Dining and Wine                Actor, Participant: 0.14   \n",
       "Education                   Academic, Participant: 0.11   \n",
       "Front Page              Government, Informational: 0.12   \n",
       "Health                    Academic, Informational: 0.16   \n",
       "Home and Garden              Witness, Participant: 0.15   \n",
       "Job Market                     Actor, Participant: 0.13   \n",
       "Magazine                       Actor, Participant: 0.16   \n",
       "Movies                       Witness, Participant: 0.15   \n",
       "New York and Region           Witness, Participant: 0.1   \n",
       "Obituaries                Government, Participant: 0.12   \n",
       "Opinion                      Witness, Participant: 0.09   \n",
       "Real Estate               Government, Participant: 0.13   \n",
       "Science                   Government, Participant: 0.09   \n",
       "Sports                         Actor, Participant: 0.14   \n",
       "Style                        Witness, Participant: 0.16   \n",
       "Technology               Corporate, Informational: 0.15   \n",
       "The Public Editor            Media, Informational: 0.16   \n",
       "Theater                      Witness, Participant: 0.14   \n",
       "Travel                     Corporate, Participant: 0.13   \n",
       "U.S.                 Political Group, Participant: 0.09   \n",
       "Washington              Government, Informational: 0.15   \n",
       "Week in Review             Academic, Informational: 0.1   \n",
       "World                   Government, Informational: 0.15   \n",
       "\n",
       "                                                      2  \\\n",
       "online_cols_split                                         \n",
       "Arts                           Media, Participant: 0.11   \n",
       "Automobiles              Corporate, Informational: 0.12   \n",
       "Books                           Media, Participant: 0.1   \n",
       "Business                  Government, Participant: 0.11   \n",
       "Dining and Wine            Corporate, Participant: 0.12   \n",
       "Education                    Witness, Participant: 0.08   \n",
       "Front Page           Political Group, Participant: 0.07   \n",
       "Health                  Government, Informational: 0.08   \n",
       "Home and Garden            Corporate, Participant: 0.12   \n",
       "Job Market                   Witness, Participant: 0.12   \n",
       "Magazine                        Media, Participant: 0.1   \n",
       "Movies                         Media, Participant: 0.11   \n",
       "New York and Region             Actor, Participant: 0.1   \n",
       "Obituaries                   Media, Informational: 0.11   \n",
       "Opinion              Political Group, Participant: 0.08   \n",
       "Real Estate                     Actor, Participant: 0.1   \n",
       "Science                 Government, Informational: 0.08   \n",
       "Sports                       Witness, Participant: 0.12   \n",
       "Style                      Corporate, Participant: 0.12   \n",
       "Technology                 Government, Participant: 0.1   \n",
       "The Public Editor              Actor, Participant: 0.16   \n",
       "Theater                        Media, Participant: 0.09   \n",
       "Travel                          Actor, Participant: 0.1   \n",
       "U.S.                    Government, Informational: 0.08   \n",
       "Washington           Political Group, Participant: 0.07   \n",
       "Week in Review          Government, Informational: 0.08   \n",
       "World                        Media, Informational: 0.06   \n",
       "\n",
       "                                                      3  \\\n",
       "online_cols_split                                         \n",
       "Arts                         Media, Informational: 0.08   \n",
       "Automobiles                    Actor, Participant: 0.09   \n",
       "Books                        Media, Informational: 0.09   \n",
       "Business                Government, Informational: 0.06   \n",
       "Dining and Wine              Media, Informational: 0.08   \n",
       "Education                 Academic, Informational: 0.07   \n",
       "Front Page                   Witness, Participant: 0.05   \n",
       "Health                     Corporate, Participant: 0.06   \n",
       "Home and Garden              Media, Informational: 0.07   \n",
       "Job Market               Corporate, Informational: 0.07   \n",
       "Magazine                     Media, Informational: 0.09   \n",
       "Movies                     Corporate, Participant: 0.08   \n",
       "New York and Region     Government, Informational: 0.06   \n",
       "Obituaries                Academic, Informational: 0.06   \n",
       "Opinion                        Media, Participant: 0.08   \n",
       "Real Estate                  Witness, Participant: 0.08   \n",
       "Science                      Witness, Participant: 0.06   \n",
       "Sports                    Government, Participant: 0.08   \n",
       "Style                          Media, Participant: 0.07   \n",
       "Technology                Academic, Informational: 0.06   \n",
       "The Public Editor            Witness, Participant: 0.08   \n",
       "Theater                    Corporate, Participant: 0.07   \n",
       "Travel                    Government, Participant: 0.09   \n",
       "U.S.                      Academic, Informational: 0.06   \n",
       "Washington                   Media, Informational: 0.05   \n",
       "Week in Review       Political Group, Participant: 0.07   \n",
       "World                Political Group, Participant: 0.06   \n",
       "\n",
       "                                                       4  \n",
       "online_cols_split                                         \n",
       "Arts                       Government, Participant: 0.07  \n",
       "Automobiles                   Media, Informational: 0.06  \n",
       "Books                      Government, Participant: 0.06  \n",
       "Business             Industry Group, Informational: 0.05  \n",
       "Dining and Wine             Witness, Informational: 0.08  \n",
       "Education                       Actor, Participant: 0.07  \n",
       "Front Page                  Corporate, Participant: 0.04  \n",
       "Health                          Actor, Participant: 0.06  \n",
       "Home and Garden            Academic, Informational: 0.06  \n",
       "Job Market                 Academic, Informational: 0.06  \n",
       "Magazine                   Government, Participant: 0.09  \n",
       "Movies                        Media, Informational: 0.07  \n",
       "New York and Region         Corporate, Participant: 0.05  \n",
       "Obituaries                   Academic, Participant: 0.06  \n",
       "Opinion                         Actor, Participant: 0.06  \n",
       "Real Estate               Corporate, Informational: 0.07  \n",
       "Science                      Academic, Participant: 0.06  \n",
       "Sports                          Media, Participant: 0.08  \n",
       "Style                         Media, Informational: 0.07  \n",
       "Technology                    Witness, Participant: 0.06  \n",
       "The Public Editor        Government, Informational: 0.08  \n",
       "Theater                    Government, Participant: 0.06  \n",
       "Travel                          Media, Participant: 0.06  \n",
       "U.S.                            Actor, Participant: 0.05  \n",
       "Washington              Government, Representative: 0.04  \n",
       "Week in Review                Witness, Participant: 0.07  \n",
       "World                         Witness, Participant: 0.06  "
      ]
     },
     "execution_count": 192,
     "metadata": {},
     "output_type": "execute_result"
    }
   ],
   "source": [
    "(sources_per_section\n",
    "     .groupby('online_cols_split')[source_cols_filt]\n",
    "     .sum()\n",
    "     .pipe(lambda df: df.divide(df.sum(axis=1), axis=0))\n",
    "     .rename(columns=lambda x: x.replace('----', ', '))\n",
    "     .apply(lambda x: {k:round(v, 2) for k,v in x.sort_values(ascending=False).items()} ,axis=1)\n",
    "     .apply(lambda x: pd.Series({i: f'{k}: {v}' for i, (k, v) in enumerate(list(x.items())[:5])}))\n",
    ")"
   ]
  },
  {
   "cell_type": "code",
   "execution_count": null,
   "id": "8922cf84-9e65-4fc5-ba97-d13a452f9969",
   "metadata": {},
   "outputs": [],
   "source": []
  },
  {
   "cell_type": "code",
   "execution_count": null,
   "id": "c5bbe71e-5a04-4320-83f4-d638bd379c86",
   "metadata": {},
   "outputs": [],
   "source": []
  },
  {
   "cell_type": "code",
   "execution_count": null,
   "id": "e0813a29-1f22-4e22-838f-3ba155f206b7",
   "metadata": {},
   "outputs": [],
   "source": []
  },
  {
   "cell_type": "code",
   "execution_count": null,
   "id": "1688e487-c1b6-43f0-8a4b-d587916c9e1b",
   "metadata": {},
   "outputs": [],
   "source": []
  },
  {
   "cell_type": "code",
   "execution_count": null,
   "id": "1a220118-5605-4383-a0ea-41b65227d81e",
   "metadata": {},
   "outputs": [],
   "source": []
  },
  {
   "cell_type": "code",
   "execution_count": null,
   "id": "42e5f45e-239f-4320-9390-0bf6ebe21c71",
   "metadata": {},
   "outputs": [],
   "source": []
  },
  {
   "cell_type": "code",
   "execution_count": null,
   "id": "12262718-95ca-40b5-a45d-f223bbe981e8",
   "metadata": {},
   "outputs": [],
   "source": []
  },
  {
   "cell_type": "code",
   "execution_count": 15,
   "id": "bfdf4022-a117-478f-b418-154bc8e31abd",
   "metadata": {
    "scrolled": true
   },
   "outputs": [
    {
     "ename": "KeyboardInterrupt",
     "evalue": "",
     "output_type": "error",
     "traceback": [
      "\u001b[0;31m---------------------------------------------------------------------------\u001b[0m",
      "\u001b[0;31mKeyboardInterrupt\u001b[0m                         Traceback (most recent call last)",
      "Cell \u001b[0;32mIn[15], line 1\u001b[0m\n\u001b[0;32m----> 1\u001b[0m all_source_lines_df \u001b[38;5;241m=\u001b[39m \u001b[43mpd\u001b[49m\u001b[38;5;241;43m.\u001b[39;49m\u001b[43mconcat\u001b[49m\u001b[43m(\u001b[49m\u001b[43msource_lines_df\u001b[49m\u001b[43m)\u001b[49m\n",
      "File \u001b[0;32m~/mambaforge/lib/python3.10/site-packages/pandas/core/reshape/concat.py:393\u001b[0m, in \u001b[0;36mconcat\u001b[0;34m(objs, axis, join, ignore_index, keys, levels, names, verify_integrity, sort, copy)\u001b[0m\n\u001b[1;32m    378\u001b[0m     copy \u001b[38;5;241m=\u001b[39m \u001b[38;5;28;01mFalse\u001b[39;00m\n\u001b[1;32m    380\u001b[0m op \u001b[38;5;241m=\u001b[39m _Concatenator(\n\u001b[1;32m    381\u001b[0m     objs,\n\u001b[1;32m    382\u001b[0m     axis\u001b[38;5;241m=\u001b[39maxis,\n\u001b[0;32m   (...)\u001b[0m\n\u001b[1;32m    390\u001b[0m     sort\u001b[38;5;241m=\u001b[39msort,\n\u001b[1;32m    391\u001b[0m )\n\u001b[0;32m--> 393\u001b[0m \u001b[38;5;28;01mreturn\u001b[39;00m \u001b[43mop\u001b[49m\u001b[38;5;241;43m.\u001b[39;49m\u001b[43mget_result\u001b[49m\u001b[43m(\u001b[49m\u001b[43m)\u001b[49m\n",
      "File \u001b[0;32m~/mambaforge/lib/python3.10/site-packages/pandas/core/reshape/concat.py:680\u001b[0m, in \u001b[0;36m_Concatenator.get_result\u001b[0;34m(self)\u001b[0m\n\u001b[1;32m    676\u001b[0m             indexers[ax] \u001b[38;5;241m=\u001b[39m obj_labels\u001b[38;5;241m.\u001b[39mget_indexer(new_labels)\n\u001b[1;32m    678\u001b[0m     mgrs_indexers\u001b[38;5;241m.\u001b[39mappend((obj\u001b[38;5;241m.\u001b[39m_mgr, indexers))\n\u001b[0;32m--> 680\u001b[0m new_data \u001b[38;5;241m=\u001b[39m \u001b[43mconcatenate_managers\u001b[49m\u001b[43m(\u001b[49m\n\u001b[1;32m    681\u001b[0m \u001b[43m    \u001b[49m\u001b[43mmgrs_indexers\u001b[49m\u001b[43m,\u001b[49m\u001b[43m \u001b[49m\u001b[38;5;28;43mself\u001b[39;49m\u001b[38;5;241;43m.\u001b[39;49m\u001b[43mnew_axes\u001b[49m\u001b[43m,\u001b[49m\u001b[43m \u001b[49m\u001b[43mconcat_axis\u001b[49m\u001b[38;5;241;43m=\u001b[39;49m\u001b[38;5;28;43mself\u001b[39;49m\u001b[38;5;241;43m.\u001b[39;49m\u001b[43mbm_axis\u001b[49m\u001b[43m,\u001b[49m\u001b[43m \u001b[49m\u001b[43mcopy\u001b[49m\u001b[38;5;241;43m=\u001b[39;49m\u001b[38;5;28;43mself\u001b[39;49m\u001b[38;5;241;43m.\u001b[39;49m\u001b[43mcopy\u001b[49m\n\u001b[1;32m    682\u001b[0m \u001b[43m\u001b[49m\u001b[43m)\u001b[49m\n\u001b[1;32m    683\u001b[0m \u001b[38;5;28;01mif\u001b[39;00m \u001b[38;5;129;01mnot\u001b[39;00m \u001b[38;5;28mself\u001b[39m\u001b[38;5;241m.\u001b[39mcopy \u001b[38;5;129;01mand\u001b[39;00m \u001b[38;5;129;01mnot\u001b[39;00m using_copy_on_write():\n\u001b[1;32m    684\u001b[0m     new_data\u001b[38;5;241m.\u001b[39m_consolidate_inplace()\n",
      "File \u001b[0;32m~/mambaforge/lib/python3.10/site-packages/pandas/core/internals/concat.py:149\u001b[0m, in \u001b[0;36mconcatenate_managers\u001b[0;34m(mgrs_indexers, axes, concat_axis, copy)\u001b[0m\n\u001b[1;32m    146\u001b[0m             nb \u001b[38;5;241m=\u001b[39m _concat_homogeneous_fastpath(mgrs_indexers, shape, first_dtype)\n\u001b[1;32m    147\u001b[0m             \u001b[38;5;28;01mreturn\u001b[39;00m BlockManager((nb,), axes)\n\u001b[0;32m--> 149\u001b[0m mgrs \u001b[38;5;241m=\u001b[39m \u001b[43m_maybe_reindex_columns_na_proxy\u001b[49m\u001b[43m(\u001b[49m\u001b[43maxes\u001b[49m\u001b[43m,\u001b[49m\u001b[43m \u001b[49m\u001b[43mmgrs_indexers\u001b[49m\u001b[43m,\u001b[49m\u001b[43m \u001b[49m\u001b[43mneeds_copy\u001b[49m\u001b[43m)\u001b[49m\n\u001b[1;32m    151\u001b[0m \u001b[38;5;28;01mif\u001b[39;00m \u001b[38;5;28mlen\u001b[39m(mgrs) \u001b[38;5;241m==\u001b[39m \u001b[38;5;241m1\u001b[39m:\n\u001b[1;32m    152\u001b[0m     mgr \u001b[38;5;241m=\u001b[39m mgrs[\u001b[38;5;241m0\u001b[39m]\n",
      "File \u001b[0;32m~/mambaforge/lib/python3.10/site-packages/pandas/core/internals/concat.py:220\u001b[0m, in \u001b[0;36m_maybe_reindex_columns_na_proxy\u001b[0;34m(axes, mgrs_indexers, needs_copy)\u001b[0m\n\u001b[1;32m    216\u001b[0m \u001b[38;5;28;01mfor\u001b[39;00m mgr, indexers \u001b[38;5;129;01min\u001b[39;00m mgrs_indexers:\n\u001b[1;32m    217\u001b[0m     \u001b[38;5;66;03m# For axis=0 (i.e. columns) we use_na_proxy and only_slice, so this\u001b[39;00m\n\u001b[1;32m    218\u001b[0m     \u001b[38;5;66;03m#  is a cheap reindexing.\u001b[39;00m\n\u001b[1;32m    219\u001b[0m     \u001b[38;5;28;01mfor\u001b[39;00m i, indexer \u001b[38;5;129;01min\u001b[39;00m indexers\u001b[38;5;241m.\u001b[39mitems():\n\u001b[0;32m--> 220\u001b[0m         mgr \u001b[38;5;241m=\u001b[39m \u001b[43mmgr\u001b[49m\u001b[38;5;241;43m.\u001b[39;49m\u001b[43mreindex_indexer\u001b[49m\u001b[43m(\u001b[49m\n\u001b[1;32m    221\u001b[0m \u001b[43m            \u001b[49m\u001b[43maxes\u001b[49m\u001b[43m[\u001b[49m\u001b[43mi\u001b[49m\u001b[43m]\u001b[49m\u001b[43m,\u001b[49m\n\u001b[1;32m    222\u001b[0m \u001b[43m            \u001b[49m\u001b[43mindexers\u001b[49m\u001b[43m[\u001b[49m\u001b[43mi\u001b[49m\u001b[43m]\u001b[49m\u001b[43m,\u001b[49m\n\u001b[1;32m    223\u001b[0m \u001b[43m            \u001b[49m\u001b[43maxis\u001b[49m\u001b[38;5;241;43m=\u001b[39;49m\u001b[43mi\u001b[49m\u001b[43m,\u001b[49m\n\u001b[1;32m    224\u001b[0m \u001b[43m            \u001b[49m\u001b[43mcopy\u001b[49m\u001b[38;5;241;43m=\u001b[39;49m\u001b[38;5;28;43;01mFalse\u001b[39;49;00m\u001b[43m,\u001b[49m\n\u001b[1;32m    225\u001b[0m \u001b[43m            \u001b[49m\u001b[43monly_slice\u001b[49m\u001b[38;5;241;43m=\u001b[39;49m\u001b[38;5;28;43;01mTrue\u001b[39;49;00m\u001b[43m,\u001b[49m\u001b[43m  \u001b[49m\u001b[38;5;66;43;03m# only relevant for i==0\u001b[39;49;00m\n\u001b[1;32m    226\u001b[0m \u001b[43m            \u001b[49m\u001b[43mallow_dups\u001b[49m\u001b[38;5;241;43m=\u001b[39;49m\u001b[38;5;28;43;01mTrue\u001b[39;49;00m\u001b[43m,\u001b[49m\n\u001b[1;32m    227\u001b[0m \u001b[43m            \u001b[49m\u001b[43muse_na_proxy\u001b[49m\u001b[38;5;241;43m=\u001b[39;49m\u001b[38;5;28;43;01mTrue\u001b[39;49;00m\u001b[43m,\u001b[49m\u001b[43m  \u001b[49m\u001b[38;5;66;43;03m# only relevant for i==0\u001b[39;49;00m\n\u001b[1;32m    228\u001b[0m \u001b[43m        \u001b[49m\u001b[43m)\u001b[49m\n\u001b[1;32m    229\u001b[0m     \u001b[38;5;28;01mif\u001b[39;00m needs_copy \u001b[38;5;129;01mand\u001b[39;00m \u001b[38;5;129;01mnot\u001b[39;00m indexers:\n\u001b[1;32m    230\u001b[0m         mgr \u001b[38;5;241m=\u001b[39m mgr\u001b[38;5;241m.\u001b[39mcopy()\n",
      "File \u001b[0;32m~/mambaforge/lib/python3.10/site-packages/pandas/core/internals/managers.py:663\u001b[0m, in \u001b[0;36mBaseBlockManager.reindex_indexer\u001b[0;34m(self, new_axis, indexer, axis, fill_value, allow_dups, copy, only_slice, use_na_proxy)\u001b[0m\n\u001b[1;32m    660\u001b[0m     \u001b[38;5;28;01mraise\u001b[39;00m \u001b[38;5;167;01mIndexError\u001b[39;00m(\u001b[38;5;124m\"\u001b[39m\u001b[38;5;124mRequested axis not found in manager\u001b[39m\u001b[38;5;124m\"\u001b[39m)\n\u001b[1;32m    662\u001b[0m \u001b[38;5;28;01mif\u001b[39;00m axis \u001b[38;5;241m==\u001b[39m \u001b[38;5;241m0\u001b[39m:\n\u001b[0;32m--> 663\u001b[0m     new_blocks \u001b[38;5;241m=\u001b[39m \u001b[38;5;28;43mself\u001b[39;49m\u001b[38;5;241;43m.\u001b[39;49m\u001b[43m_slice_take_blocks_ax0\u001b[49m\u001b[43m(\u001b[49m\n\u001b[1;32m    664\u001b[0m \u001b[43m        \u001b[49m\u001b[43mindexer\u001b[49m\u001b[43m,\u001b[49m\n\u001b[1;32m    665\u001b[0m \u001b[43m        \u001b[49m\u001b[43mfill_value\u001b[49m\u001b[38;5;241;43m=\u001b[39;49m\u001b[43mfill_value\u001b[49m\u001b[43m,\u001b[49m\n\u001b[1;32m    666\u001b[0m \u001b[43m        \u001b[49m\u001b[43monly_slice\u001b[49m\u001b[38;5;241;43m=\u001b[39;49m\u001b[43monly_slice\u001b[49m\u001b[43m,\u001b[49m\n\u001b[1;32m    667\u001b[0m \u001b[43m        \u001b[49m\u001b[43muse_na_proxy\u001b[49m\u001b[38;5;241;43m=\u001b[39;49m\u001b[43muse_na_proxy\u001b[49m\u001b[43m,\u001b[49m\n\u001b[1;32m    668\u001b[0m \u001b[43m    \u001b[49m\u001b[43m)\u001b[49m\n\u001b[1;32m    669\u001b[0m \u001b[38;5;28;01melse\u001b[39;00m:\n\u001b[1;32m    670\u001b[0m     new_blocks \u001b[38;5;241m=\u001b[39m [\n\u001b[1;32m    671\u001b[0m         blk\u001b[38;5;241m.\u001b[39mtake_nd(\n\u001b[1;32m    672\u001b[0m             indexer,\n\u001b[0;32m   (...)\u001b[0m\n\u001b[1;32m    678\u001b[0m         \u001b[38;5;28;01mfor\u001b[39;00m blk \u001b[38;5;129;01min\u001b[39;00m \u001b[38;5;28mself\u001b[39m\u001b[38;5;241m.\u001b[39mblocks\n\u001b[1;32m    679\u001b[0m     ]\n",
      "File \u001b[0;32m~/mambaforge/lib/python3.10/site-packages/pandas/core/internals/managers.py:784\u001b[0m, in \u001b[0;36mBaseBlockManager._slice_take_blocks_ax0\u001b[0;34m(self, slice_or_indexer, fill_value, only_slice, use_na_proxy, ref_inplace_op)\u001b[0m\n\u001b[1;32m    779\u001b[0m \u001b[38;5;28;01mfor\u001b[39;00m blkno, mgr_locs \u001b[38;5;129;01min\u001b[39;00m libinternals\u001b[38;5;241m.\u001b[39mget_blkno_placements(blknos, group\u001b[38;5;241m=\u001b[39mgroup):\n\u001b[1;32m    780\u001b[0m     \u001b[38;5;28;01mif\u001b[39;00m blkno \u001b[38;5;241m==\u001b[39m \u001b[38;5;241m-\u001b[39m\u001b[38;5;241m1\u001b[39m:\n\u001b[1;32m    781\u001b[0m         \u001b[38;5;66;03m# If we've got here, fill_value was not lib.no_default\u001b[39;00m\n\u001b[1;32m    783\u001b[0m         blocks\u001b[38;5;241m.\u001b[39mappend(\n\u001b[0;32m--> 784\u001b[0m             \u001b[38;5;28;43mself\u001b[39;49m\u001b[38;5;241;43m.\u001b[39;49m\u001b[43m_make_na_block\u001b[49m\u001b[43m(\u001b[49m\n\u001b[1;32m    785\u001b[0m \u001b[43m                \u001b[49m\u001b[43mplacement\u001b[49m\u001b[38;5;241;43m=\u001b[39;49m\u001b[43mmgr_locs\u001b[49m\u001b[43m,\u001b[49m\n\u001b[1;32m    786\u001b[0m \u001b[43m                \u001b[49m\u001b[43mfill_value\u001b[49m\u001b[38;5;241;43m=\u001b[39;49m\u001b[43mfill_value\u001b[49m\u001b[43m,\u001b[49m\n\u001b[1;32m    787\u001b[0m \u001b[43m                \u001b[49m\u001b[43muse_na_proxy\u001b[49m\u001b[38;5;241;43m=\u001b[39;49m\u001b[43muse_na_proxy\u001b[49m\u001b[43m,\u001b[49m\n\u001b[1;32m    788\u001b[0m \u001b[43m            \u001b[49m\u001b[43m)\u001b[49m\n\u001b[1;32m    789\u001b[0m         )\n\u001b[1;32m    790\u001b[0m     \u001b[38;5;28;01melse\u001b[39;00m:\n\u001b[1;32m    791\u001b[0m         blk \u001b[38;5;241m=\u001b[39m \u001b[38;5;28mself\u001b[39m\u001b[38;5;241m.\u001b[39mblocks[blkno]\n",
      "File \u001b[0;32m~/mambaforge/lib/python3.10/site-packages/pandas/core/internals/managers.py:838\u001b[0m, in \u001b[0;36mBaseBlockManager._make_na_block\u001b[0;34m(self, placement, fill_value, use_na_proxy)\u001b[0m\n\u001b[1;32m    836\u001b[0m \u001b[38;5;28;01mif\u001b[39;00m use_na_proxy:\n\u001b[1;32m    837\u001b[0m     \u001b[38;5;28;01massert\u001b[39;00m fill_value \u001b[38;5;129;01mis\u001b[39;00m \u001b[38;5;28;01mNone\u001b[39;00m\n\u001b[0;32m--> 838\u001b[0m     shape \u001b[38;5;241m=\u001b[39m (\u001b[38;5;28mlen\u001b[39m(placement), \u001b[38;5;28;43mself\u001b[39;49m\u001b[38;5;241;43m.\u001b[39;49m\u001b[43mshape\u001b[49m[\u001b[38;5;241m1\u001b[39m])\n\u001b[1;32m    839\u001b[0m     vals \u001b[38;5;241m=\u001b[39m np\u001b[38;5;241m.\u001b[39mempty(shape, dtype\u001b[38;5;241m=\u001b[39mnp\u001b[38;5;241m.\u001b[39mvoid)\n\u001b[1;32m    840\u001b[0m     nb \u001b[38;5;241m=\u001b[39m NumpyBlock(vals, placement, ndim\u001b[38;5;241m=\u001b[39m\u001b[38;5;241m2\u001b[39m)\n",
      "File \u001b[0;32m~/mambaforge/lib/python3.10/site-packages/pandas/core/internals/base.py:71\u001b[0m, in \u001b[0;36mDataManager.shape\u001b[0;34m(self)\u001b[0m\n\u001b[1;32m     69\u001b[0m \u001b[38;5;129m@property\u001b[39m\n\u001b[1;32m     70\u001b[0m \u001b[38;5;28;01mdef\u001b[39;00m \u001b[38;5;21mshape\u001b[39m(\u001b[38;5;28mself\u001b[39m) \u001b[38;5;241m-\u001b[39m\u001b[38;5;241m>\u001b[39m Shape:\n\u001b[0;32m---> 71\u001b[0m     \u001b[38;5;28;01mreturn\u001b[39;00m \u001b[38;5;28mtuple\u001b[39m(\u001b[38;5;28mlen\u001b[39m(ax) \u001b[38;5;28;01mfor\u001b[39;00m ax \u001b[38;5;129;01min\u001b[39;00m \u001b[38;5;28mself\u001b[39m\u001b[38;5;241m.\u001b[39maxes)\n",
      "\u001b[0;31mKeyboardInterrupt\u001b[0m: "
     ]
    }
   ],
   "source": [
    "all_source_lines_df = pd.concat(source_lines_df)"
   ]
  },
  {
   "cell_type": "code",
   "execution_count": null,
   "id": "24c9994b-d524-4561-a1b1-4668dee80278",
   "metadata": {},
   "outputs": [],
   "source": [
    "all_source_lines_df.shape"
   ]
  },
  {
   "cell_type": "code",
   "execution_count": null,
   "id": "b71f52c7-2bc8-4375-8df2-1c951685497e",
   "metadata": {},
   "outputs": [],
   "source": []
  },
  {
   "cell_type": "code",
   "execution_count": null,
   "id": "63eee482-a84b-4203-9a2c-cbe9dfe46a38",
   "metadata": {},
   "outputs": [],
   "source": []
  },
  {
   "cell_type": "code",
   "execution_count": null,
   "id": "fb31b2de-86fd-47e2-8c08-5f51b46cd878",
   "metadata": {},
   "outputs": [],
   "source": []
  },
  {
   "cell_type": "code",
   "execution_count": null,
   "id": "5ec34451-410c-4823-a2d9-bb9c0775c2c0",
   "metadata": {},
   "outputs": [],
   "source": []
  },
  {
   "cell_type": "code",
   "execution_count": null,
   "id": "a31b7a18-0fa5-4d9c-b0a8-c6c57e0c304a",
   "metadata": {},
   "outputs": [],
   "source": []
  }
 ],
 "metadata": {
  "kernelspec": {
   "display_name": "Python 3 (ipykernel)",
   "language": "python",
   "name": "python3"
  },
  "language_info": {
   "codemirror_mode": {
    "name": "ipython",
    "version": 3
   },
   "file_extension": ".py",
   "mimetype": "text/x-python",
   "name": "python",
   "nbconvert_exporter": "python",
   "pygments_lexer": "ipython3",
   "version": "3.10.12"
  }
 },
 "nbformat": 4,
 "nbformat_minor": 5
}
